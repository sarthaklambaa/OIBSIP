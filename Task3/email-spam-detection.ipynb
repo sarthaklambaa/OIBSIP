{
 "cells": [
  {
   "cell_type": "markdown",
   "id": "0492970d-b206-4f8b-b3dd-1ab6c8c5de1a",
   "metadata": {},
   "source": [
    "# Email Spam Detection"
   ]
  },
  {
   "cell_type": "markdown",
   "id": "e5f6c099-06de-49c7-8fcb-861d05e38e17",
   "metadata": {},
   "source": [
    "We’ve all been the recipient of spam emails before. Spam mail, or junk mail, is a type of email\n",
    "that is sent to a massive number of users at one time, frequently containing cryptic\n",
    "messages, scams, or most dangerously, phishing content."
   ]
  },
  {
   "cell_type": "markdown",
   "id": "622f4722-fcf6-4e4b-8575-3972d6865484",
   "metadata": {},
   "source": [
    "## 1. Problem Definition"
   ]
  },
  {
   "cell_type": "markdown",
   "id": "4824d64c-bd2f-4923-b730-ca044ee7c8c4",
   "metadata": {},
   "source": [
    "> Given certain set of features, how well can can you classify whether an email is spam or not."
   ]
  },
  {
   "cell_type": "markdown",
   "id": "f3fcc07a-46ec-4089-9810-38c7ab867d7c",
   "metadata": {},
   "source": [
    "## 2. Data\n",
    "\n",
    "The original data came from UCI Repository - https://archive.ics.uci.edu/dataset/228/sms+spam+collection <br>\n",
    "\n",
    "The dataset was downloaded from **Kaggle - SMS Spam Collection Dataset.** <br>\n",
    "https://www.kaggle.com/datasets/uciml/sms-spam-collection-dataset"
   ]
  },
  {
   "cell_type": "markdown",
   "id": "dd136849-5654-4dcb-98da-e38b42f7055e",
   "metadata": {},
   "source": [
    "## 3. Evaluation\n",
    "To accurately separate email/sms(s) in spam and non-spam categories."
   ]
  },
  {
   "cell_type": "markdown",
   "id": "735388f3-0465-4c88-a362-0ee898e1d0d9",
   "metadata": {},
   "source": [
    "## 4. Features\n",
    "\n",
    "#### Data Dictionary:\n",
    "\n",
    "* **v1/Spam:** This column indicates whether the message is spam or ham (legitimate). It contains categorical data with two possible values: \"ham\" or \"spam\". <br>\n",
    "* **v2/Text:** This column contains the raw text of the SMS messages. It includes both spam and ham messages. It contains textual data. <br>\n",
    "\n",
    "This dataset comprises 5,574 SMS messages in English, with each message labeled as either \"ham\" or \"spam\". The messages were collected from various sources, including online forums and academic research datasets. The \"ham\" messages were predominantly sourced from the NUS SMS Corpus and Caroline Tag's PhD Thesis, while the \"spam\" messages were collected manually from the Grumbletext website and the SMS Spam Corpus v.0.1 Big."
   ]
  },
  {
   "cell_type": "code",
   "execution_count": 1,
   "id": "3e69cb6d-2f4c-4809-8852-3b1d21cc65a1",
   "metadata": {},
   "outputs": [],
   "source": [
    "# Importing necessary tools\n",
    "\n",
    "import pandas as pd \n",
    "import numpy as np\n",
    "import matplotlib.pyplot as plt\n",
    "%matplotlib inline\n",
    "import seaborn as sns\n",
    "from sklearn.preprocessing import LabelEncoder\n",
    "from sklearn.feature_extraction.text import TfidfVectorizer\n",
    "from sklearn.model_selection import train_test_split\n",
    "from sklearn.linear_model import LogisticRegression\n",
    "from sklearn.metrics import accuracy_score\n",
    "from sklearn.metrics import classification_report"
   ]
  },
  {
   "cell_type": "code",
   "execution_count": 2,
   "id": "e96799c2-a3fd-452c-8ca5-a7078b757770",
   "metadata": {},
   "outputs": [],
   "source": [
    "data = pd.read_csv(\"data/spam.csv\", encoding='latin-1')"
   ]
  },
  {
   "cell_type": "code",
   "execution_count": 3,
   "id": "556c85bd-624f-4cfa-a205-daaefce1b5f7",
   "metadata": {},
   "outputs": [
    {
     "data": {
      "text/html": [
       "<div>\n",
       "<style scoped>\n",
       "    .dataframe tbody tr th:only-of-type {\n",
       "        vertical-align: middle;\n",
       "    }\n",
       "\n",
       "    .dataframe tbody tr th {\n",
       "        vertical-align: top;\n",
       "    }\n",
       "\n",
       "    .dataframe thead th {\n",
       "        text-align: right;\n",
       "    }\n",
       "</style>\n",
       "<table border=\"1\" class=\"dataframe\">\n",
       "  <thead>\n",
       "    <tr style=\"text-align: right;\">\n",
       "      <th></th>\n",
       "      <th>v1</th>\n",
       "      <th>v2</th>\n",
       "      <th>Unnamed: 2</th>\n",
       "      <th>Unnamed: 3</th>\n",
       "      <th>Unnamed: 4</th>\n",
       "    </tr>\n",
       "  </thead>\n",
       "  <tbody>\n",
       "    <tr>\n",
       "      <th>0</th>\n",
       "      <td>ham</td>\n",
       "      <td>Go until jurong point, crazy.. Available only ...</td>\n",
       "      <td>NaN</td>\n",
       "      <td>NaN</td>\n",
       "      <td>NaN</td>\n",
       "    </tr>\n",
       "    <tr>\n",
       "      <th>1</th>\n",
       "      <td>ham</td>\n",
       "      <td>Ok lar... Joking wif u oni...</td>\n",
       "      <td>NaN</td>\n",
       "      <td>NaN</td>\n",
       "      <td>NaN</td>\n",
       "    </tr>\n",
       "    <tr>\n",
       "      <th>2</th>\n",
       "      <td>spam</td>\n",
       "      <td>Free entry in 2 a wkly comp to win FA Cup fina...</td>\n",
       "      <td>NaN</td>\n",
       "      <td>NaN</td>\n",
       "      <td>NaN</td>\n",
       "    </tr>\n",
       "    <tr>\n",
       "      <th>3</th>\n",
       "      <td>ham</td>\n",
       "      <td>U dun say so early hor... U c already then say...</td>\n",
       "      <td>NaN</td>\n",
       "      <td>NaN</td>\n",
       "      <td>NaN</td>\n",
       "    </tr>\n",
       "    <tr>\n",
       "      <th>4</th>\n",
       "      <td>ham</td>\n",
       "      <td>Nah I don't think he goes to usf, he lives aro...</td>\n",
       "      <td>NaN</td>\n",
       "      <td>NaN</td>\n",
       "      <td>NaN</td>\n",
       "    </tr>\n",
       "  </tbody>\n",
       "</table>\n",
       "</div>"
      ],
      "text/plain": [
       "     v1                                                 v2 Unnamed: 2  \\\n",
       "0   ham  Go until jurong point, crazy.. Available only ...        NaN   \n",
       "1   ham                      Ok lar... Joking wif u oni...        NaN   \n",
       "2  spam  Free entry in 2 a wkly comp to win FA Cup fina...        NaN   \n",
       "3   ham  U dun say so early hor... U c already then say...        NaN   \n",
       "4   ham  Nah I don't think he goes to usf, he lives aro...        NaN   \n",
       "\n",
       "  Unnamed: 3 Unnamed: 4  \n",
       "0        NaN        NaN  \n",
       "1        NaN        NaN  \n",
       "2        NaN        NaN  \n",
       "3        NaN        NaN  \n",
       "4        NaN        NaN  "
      ]
     },
     "execution_count": 3,
     "metadata": {},
     "output_type": "execute_result"
    }
   ],
   "source": [
    "data.head()"
   ]
  },
  {
   "cell_type": "code",
   "execution_count": 4,
   "id": "d914663d-6d4e-417c-8daa-9d81d6b83ae4",
   "metadata": {},
   "outputs": [
    {
     "data": {
      "text/plain": [
       "(5572, 5)"
      ]
     },
     "execution_count": 4,
     "metadata": {},
     "output_type": "execute_result"
    }
   ],
   "source": [
    "data.shape"
   ]
  },
  {
   "cell_type": "code",
   "execution_count": 5,
   "id": "adeb68fc-6251-46a2-bf2e-dcd419d40188",
   "metadata": {},
   "outputs": [
    {
     "name": "stdout",
     "output_type": "stream",
     "text": [
      "<class 'pandas.core.frame.DataFrame'>\n",
      "RangeIndex: 5572 entries, 0 to 5571\n",
      "Data columns (total 5 columns):\n",
      " #   Column      Non-Null Count  Dtype \n",
      "---  ------      --------------  ----- \n",
      " 0   v1          5572 non-null   object\n",
      " 1   v2          5572 non-null   object\n",
      " 2   Unnamed: 2  50 non-null     object\n",
      " 3   Unnamed: 3  12 non-null     object\n",
      " 4   Unnamed: 4  6 non-null      object\n",
      "dtypes: object(5)\n",
      "memory usage: 217.8+ KB\n"
     ]
    }
   ],
   "source": [
    "data.info()"
   ]
  },
  {
   "cell_type": "code",
   "execution_count": 6,
   "id": "2d900124-bb0a-4e0b-8636-54b42983cbed",
   "metadata": {},
   "outputs": [
    {
     "data": {
      "text/plain": [
       "403"
      ]
     },
     "execution_count": 6,
     "metadata": {},
     "output_type": "execute_result"
    }
   ],
   "source": [
    "data.duplicated().sum()"
   ]
  },
  {
   "cell_type": "markdown",
   "id": "5deec6b3-d70d-4543-906c-9d2e87b836e4",
   "metadata": {},
   "source": [
    "##### The data has 403 rows of duplicate rows. Therefore, we will drop duplicated data for data preprocessing."
   ]
  },
  {
   "cell_type": "code",
   "execution_count": 7,
   "id": "000a6b7b-3f93-4f33-a94b-ef68437eb117",
   "metadata": {},
   "outputs": [],
   "source": [
    "data.drop_duplicates(inplace=True)"
   ]
  },
  {
   "cell_type": "code",
   "execution_count": 8,
   "id": "250c5919-63ea-4c11-be0e-4f9a6daa2e54",
   "metadata": {},
   "outputs": [
    {
     "data": {
      "text/plain": [
       "(5169, 5)"
      ]
     },
     "execution_count": 8,
     "metadata": {},
     "output_type": "execute_result"
    }
   ],
   "source": [
    "data.shape"
   ]
  },
  {
   "cell_type": "code",
   "execution_count": 9,
   "id": "3816c11d-3db7-4da8-8ac4-28123ab5d407",
   "metadata": {},
   "outputs": [
    {
     "data": {
      "text/plain": [
       "v1               0\n",
       "v2               0\n",
       "Unnamed: 2    5126\n",
       "Unnamed: 3    5159\n",
       "Unnamed: 4    5164\n",
       "dtype: int64"
      ]
     },
     "execution_count": 9,
     "metadata": {},
     "output_type": "execute_result"
    }
   ],
   "source": [
    "data.isna().sum()"
   ]
  },
  {
   "cell_type": "markdown",
   "id": "bd0e4492-d968-4526-adf8-953e16ff9b71",
   "metadata": {},
   "source": [
    "##### We can see all the unnamed columns have null values. Therefore dropping unnamed columns."
   ]
  },
  {
   "cell_type": "code",
   "execution_count": 10,
   "id": "83a62035-2da8-4e3b-ae46-9568b93e9d34",
   "metadata": {},
   "outputs": [
    {
     "data": {
      "text/plain": [
       "(5169, 2)"
      ]
     },
     "execution_count": 10,
     "metadata": {},
     "output_type": "execute_result"
    }
   ],
   "source": [
    "data.drop(columns=['Unnamed: 2','Unnamed: 3','Unnamed: 4'],inplace=True)\n",
    "data.shape"
   ]
  },
  {
   "cell_type": "code",
   "execution_count": 11,
   "id": "837b6f88-5dae-4d88-bc44-9c6e27d1b3f0",
   "metadata": {},
   "outputs": [
    {
     "data": {
      "text/plain": [
       "v1    0\n",
       "v2    0\n",
       "dtype: int64"
      ]
     },
     "execution_count": 11,
     "metadata": {},
     "output_type": "execute_result"
    }
   ],
   "source": [
    "data.isnull().sum()"
   ]
  },
  {
   "cell_type": "code",
   "execution_count": 12,
   "id": "95683ea1-109a-4b00-a6ce-1294e9dfebab",
   "metadata": {},
   "outputs": [
    {
     "data": {
      "text/html": [
       "<div>\n",
       "<style scoped>\n",
       "    .dataframe tbody tr th:only-of-type {\n",
       "        vertical-align: middle;\n",
       "    }\n",
       "\n",
       "    .dataframe tbody tr th {\n",
       "        vertical-align: top;\n",
       "    }\n",
       "\n",
       "    .dataframe thead th {\n",
       "        text-align: right;\n",
       "    }\n",
       "</style>\n",
       "<table border=\"1\" class=\"dataframe\">\n",
       "  <thead>\n",
       "    <tr style=\"text-align: right;\">\n",
       "      <th></th>\n",
       "      <th>v1</th>\n",
       "      <th>v2</th>\n",
       "    </tr>\n",
       "  </thead>\n",
       "  <tbody>\n",
       "    <tr>\n",
       "      <th>0</th>\n",
       "      <td>ham</td>\n",
       "      <td>Go until jurong point, crazy.. Available only ...</td>\n",
       "    </tr>\n",
       "    <tr>\n",
       "      <th>1</th>\n",
       "      <td>ham</td>\n",
       "      <td>Ok lar... Joking wif u oni...</td>\n",
       "    </tr>\n",
       "    <tr>\n",
       "      <th>2</th>\n",
       "      <td>spam</td>\n",
       "      <td>Free entry in 2 a wkly comp to win FA Cup fina...</td>\n",
       "    </tr>\n",
       "    <tr>\n",
       "      <th>3</th>\n",
       "      <td>ham</td>\n",
       "      <td>U dun say so early hor... U c already then say...</td>\n",
       "    </tr>\n",
       "    <tr>\n",
       "      <th>4</th>\n",
       "      <td>ham</td>\n",
       "      <td>Nah I don't think he goes to usf, he lives aro...</td>\n",
       "    </tr>\n",
       "  </tbody>\n",
       "</table>\n",
       "</div>"
      ],
      "text/plain": [
       "     v1                                                 v2\n",
       "0   ham  Go until jurong point, crazy.. Available only ...\n",
       "1   ham                      Ok lar... Joking wif u oni...\n",
       "2  spam  Free entry in 2 a wkly comp to win FA Cup fina...\n",
       "3   ham  U dun say so early hor... U c already then say...\n",
       "4   ham  Nah I don't think he goes to usf, he lives aro..."
      ]
     },
     "execution_count": 12,
     "metadata": {},
     "output_type": "execute_result"
    }
   ],
   "source": [
    "data.head()"
   ]
  },
  {
   "cell_type": "code",
   "execution_count": 13,
   "id": "be4e02f1-83a3-47c4-99f1-72594471bc56",
   "metadata": {},
   "outputs": [
    {
     "data": {
      "text/html": [
       "<div>\n",
       "<style scoped>\n",
       "    .dataframe tbody tr th:only-of-type {\n",
       "        vertical-align: middle;\n",
       "    }\n",
       "\n",
       "    .dataframe tbody tr th {\n",
       "        vertical-align: top;\n",
       "    }\n",
       "\n",
       "    .dataframe thead th {\n",
       "        text-align: right;\n",
       "    }\n",
       "</style>\n",
       "<table border=\"1\" class=\"dataframe\">\n",
       "  <thead>\n",
       "    <tr style=\"text-align: right;\">\n",
       "      <th></th>\n",
       "      <th>Spam</th>\n",
       "      <th>Text</th>\n",
       "    </tr>\n",
       "  </thead>\n",
       "  <tbody>\n",
       "    <tr>\n",
       "      <th>0</th>\n",
       "      <td>ham</td>\n",
       "      <td>Go until jurong point, crazy.. Available only ...</td>\n",
       "    </tr>\n",
       "    <tr>\n",
       "      <th>1</th>\n",
       "      <td>ham</td>\n",
       "      <td>Ok lar... Joking wif u oni...</td>\n",
       "    </tr>\n",
       "    <tr>\n",
       "      <th>2</th>\n",
       "      <td>spam</td>\n",
       "      <td>Free entry in 2 a wkly comp to win FA Cup fina...</td>\n",
       "    </tr>\n",
       "    <tr>\n",
       "      <th>3</th>\n",
       "      <td>ham</td>\n",
       "      <td>U dun say so early hor... U c already then say...</td>\n",
       "    </tr>\n",
       "    <tr>\n",
       "      <th>4</th>\n",
       "      <td>ham</td>\n",
       "      <td>Nah I don't think he goes to usf, he lives aro...</td>\n",
       "    </tr>\n",
       "  </tbody>\n",
       "</table>\n",
       "</div>"
      ],
      "text/plain": [
       "   Spam                                               Text\n",
       "0   ham  Go until jurong point, crazy.. Available only ...\n",
       "1   ham                      Ok lar... Joking wif u oni...\n",
       "2  spam  Free entry in 2 a wkly comp to win FA Cup fina...\n",
       "3   ham  U dun say so early hor... U c already then say...\n",
       "4   ham  Nah I don't think he goes to usf, he lives aro..."
      ]
     },
     "execution_count": 13,
     "metadata": {},
     "output_type": "execute_result"
    }
   ],
   "source": [
    "data.rename(columns={'v1':'Spam','v2':'Text'},inplace=True)\n",
    "data.head()"
   ]
  },
  {
   "cell_type": "code",
   "execution_count": 14,
   "id": "c91bcd4c-4cfe-4b4d-9166-2f775d43ac4e",
   "metadata": {},
   "outputs": [
    {
     "data": {
      "text/plain": [
       "<bound method DataFrame.info of       Spam                                               Text\n",
       "0      ham  Go until jurong point, crazy.. Available only ...\n",
       "1      ham                      Ok lar... Joking wif u oni...\n",
       "2     spam  Free entry in 2 a wkly comp to win FA Cup fina...\n",
       "3      ham  U dun say so early hor... U c already then say...\n",
       "4      ham  Nah I don't think he goes to usf, he lives aro...\n",
       "...    ...                                                ...\n",
       "5567  spam  This is the 2nd time we have tried 2 contact u...\n",
       "5568   ham              Will Ì_ b going to esplanade fr home?\n",
       "5569   ham  Pity, * was in mood for that. So...any other s...\n",
       "5570   ham  The guy did some bitching but I acted like i'd...\n",
       "5571   ham                         Rofl. Its true to its name\n",
       "\n",
       "[5169 rows x 2 columns]>"
      ]
     },
     "execution_count": 14,
     "metadata": {},
     "output_type": "execute_result"
    }
   ],
   "source": [
    "data.info"
   ]
  },
  {
   "cell_type": "code",
   "execution_count": 15,
   "id": "c8544fb3-c66f-4a3d-bdbf-86c72b827733",
   "metadata": {},
   "outputs": [
    {
     "data": {
      "text/plain": [
       "Spam\n",
       "ham     4516\n",
       "spam     653\n",
       "Name: count, dtype: int64"
      ]
     },
     "execution_count": 15,
     "metadata": {},
     "output_type": "execute_result"
    }
   ],
   "source": [
    "data['Spam'].value_counts()"
   ]
  },
  {
   "cell_type": "code",
   "execution_count": 16,
   "id": "d27ae697-f920-41f0-bb1a-0e0e8e87b02f",
   "metadata": {},
   "outputs": [
    {
     "data": {
      "image/png": "[encoded data removed]",
      "text/plain": [
       "<Figure size 640x480 with 1 Axes>"
      ]
     },
     "metadata": {},
     "output_type": "display_data"
    }
   ],
   "source": [
    "# Count occurrences of 'ham' and 'spam'\n",
    "ham_count = data['Spam'].value_counts()['ham']\n",
    "spam_count = data['Spam'].value_counts()['spam']\n",
    "\n",
    "# Plotting\n",
    "labels = ['Not Spam', 'Spam']\n",
    "counts = [ham_count, spam_count]\n",
    "\n",
    "plt.bar(labels, counts, color=['#63474D', '#AA767C'])\n",
    "plt.xlabel('Message Type')\n",
    "plt.ylabel('Count')\n",
    "plt.title('Distribution of Spam and Not Spam Messages')\n",
    "plt.show()"
   ]
  },
  {
   "cell_type": "markdown",
   "id": "17021721-c4fb-433e-80a3-ffb343d98a73",
   "metadata": {},
   "source": [
    "As we can observe, the dataset is imbalanced with maximum data being classfied as 'ham' or 'not spam'. <br> To solve this, we create two separate datasets containing 'ham' texts and 'spam' texts."
   ]
  },
  {
   "cell_type": "code",
   "execution_count": 17,
   "id": "da237789-29dd-4b90-a5b5-968c2f018f85",
   "metadata": {},
   "outputs": [
    {
     "name": "stdout",
     "output_type": "stream",
     "text": [
      "Ham shape:(4516, 2)\n",
      "Spam shape: (653, 2)\n"
     ]
    }
   ],
   "source": [
    "ham_texts = data[data.Spam=='ham']\n",
    "spam_texts= data[data.Spam=='spam']\n",
    "\n",
    "print(f\"Ham shape:{ham_texts.shape}\") \n",
    "print(f\"Spam shape: {spam_texts.shape}\")"
   ]
  },
  {
   "cell_type": "code",
   "execution_count": 18,
   "id": "0f6e7d1c-35de-4d0e-bc3f-4d17e372c24a",
   "metadata": {},
   "outputs": [],
   "source": [
    "ham_sample = ham_texts.sample(n=653)"
   ]
  },
  {
   "cell_type": "code",
   "execution_count": 19,
   "id": "cfaa4ca4-bcb2-46b5-b1a2-e0ef9c91a09a",
   "metadata": {},
   "outputs": [
    {
     "data": {
      "text/plain": [
       "((653, 2), (653, 2))"
      ]
     },
     "execution_count": 19,
     "metadata": {},
     "output_type": "execute_result"
    }
   ],
   "source": [
    "ham_sample.shape, spam_texts.shape"
   ]
  },
  {
   "cell_type": "code",
   "execution_count": 20,
   "id": "b3f0c843-5179-4745-bf6b-25acce4d0e1c",
   "metadata": {},
   "outputs": [
    {
     "data": {
      "text/plain": [
       "(1306, 2)"
      ]
     },
     "execution_count": 20,
     "metadata": {},
     "output_type": "execute_result"
    }
   ],
   "source": [
    "balanced_data = pd.concat([ham_sample,spam_texts],axis=0)\n",
    "balanced_data.shape"
   ]
  },
  {
   "cell_type": "code",
   "execution_count": 21,
   "id": "6087ec88-0d71-4c47-a249-6b4ef89bbe86",
   "metadata": {},
   "outputs": [
    {
     "data": {
      "image/png": "[encoded data removed]",
      "text/plain": [
       "<Figure size 640x480 with 1 Axes>"
      ]
     },
     "metadata": {},
     "output_type": "display_data"
    }
   ],
   "source": [
    "# Count occurrences of 'ham' and 'spam'\n",
    "ham_count = ham_sample.shape[0]\n",
    "spam_count = spam_texts.shape[0]\n",
    "\n",
    "# Plotting\n",
    "labels = ['Not Spam', 'Spam']\n",
    "counts = [ham_count, spam_count]\n",
    "\n",
    "plt.bar(labels, counts, color=['#63474D', '#AA767C'])\n",
    "plt.xlabel('Message Type')\n",
    "plt.ylabel('Count')\n",
    "plt.title('Distribution of Spam and Not Spam Messages')\n",
    "plt.show()\n"
   ]
  },
  {
   "cell_type": "markdown",
   "id": "fa3a8294-1ac9-4ef5-9d43-c0bc9b215cd2",
   "metadata": {},
   "source": [
    "##### Since now we have equal number of data for not spam and spam.\n",
    "##### Therefore, we'll encode the 'Ham' and 'Spam' values as 0 and 1 respectively."
   ]
  },
  {
   "cell_type": "code",
   "execution_count": 22,
   "id": "4294bb48-f9c0-4a14-9302-459da518aabf",
   "metadata": {},
   "outputs": [
    {
     "data": {
      "text/html": [
       "<div>\n",
       "<style scoped>\n",
       "    .dataframe tbody tr th:only-of-type {\n",
       "        vertical-align: middle;\n",
       "    }\n",
       "\n",
       "    .dataframe tbody tr th {\n",
       "        vertical-align: top;\n",
       "    }\n",
       "\n",
       "    .dataframe thead th {\n",
       "        text-align: right;\n",
       "    }\n",
       "</style>\n",
       "<table border=\"1\" class=\"dataframe\">\n",
       "  <thead>\n",
       "    <tr style=\"text-align: right;\">\n",
       "      <th></th>\n",
       "      <th>Spam</th>\n",
       "      <th>Text</th>\n",
       "    </tr>\n",
       "  </thead>\n",
       "  <tbody>\n",
       "    <tr>\n",
       "      <th>1033</th>\n",
       "      <td>0</td>\n",
       "      <td>OH MR SHEFFIELD! You wanna play THAT game, oka...</td>\n",
       "    </tr>\n",
       "    <tr>\n",
       "      <th>2781</th>\n",
       "      <td>0</td>\n",
       "      <td>Then its most likely called Mittelschmertz. Go...</td>\n",
       "    </tr>\n",
       "    <tr>\n",
       "      <th>3477</th>\n",
       "      <td>0</td>\n",
       "      <td>I can ask around but there's not a lot in term...</td>\n",
       "    </tr>\n",
       "    <tr>\n",
       "      <th>5023</th>\n",
       "      <td>0</td>\n",
       "      <td>Where you. What happen</td>\n",
       "    </tr>\n",
       "    <tr>\n",
       "      <th>2931</th>\n",
       "      <td>0</td>\n",
       "      <td>Only 2% students solved this CAT question in '...</td>\n",
       "    </tr>\n",
       "    <tr>\n",
       "      <th>...</th>\n",
       "      <td>...</td>\n",
       "      <td>...</td>\n",
       "    </tr>\n",
       "    <tr>\n",
       "      <th>5537</th>\n",
       "      <td>1</td>\n",
       "      <td>Want explicit SEX in 30 secs? Ring 02073162414...</td>\n",
       "    </tr>\n",
       "    <tr>\n",
       "      <th>5540</th>\n",
       "      <td>1</td>\n",
       "      <td>ASKED 3MOBILE IF 0870 CHATLINES INCLU IN FREE ...</td>\n",
       "    </tr>\n",
       "    <tr>\n",
       "      <th>5547</th>\n",
       "      <td>1</td>\n",
       "      <td>Had your contract mobile 11 Mnths? Latest Moto...</td>\n",
       "    </tr>\n",
       "    <tr>\n",
       "      <th>5566</th>\n",
       "      <td>1</td>\n",
       "      <td>REMINDER FROM O2: To get 2.50 pounds free call...</td>\n",
       "    </tr>\n",
       "    <tr>\n",
       "      <th>5567</th>\n",
       "      <td>1</td>\n",
       "      <td>This is the 2nd time we have tried 2 contact u...</td>\n",
       "    </tr>\n",
       "  </tbody>\n",
       "</table>\n",
       "<p>1306 rows × 2 columns</p>\n",
       "</div>"
      ],
      "text/plain": [
       "      Spam                                               Text\n",
       "1033     0  OH MR SHEFFIELD! You wanna play THAT game, oka...\n",
       "2781     0  Then its most likely called Mittelschmertz. Go...\n",
       "3477     0  I can ask around but there's not a lot in term...\n",
       "5023     0                             Where you. What happen\n",
       "2931     0  Only 2% students solved this CAT question in '...\n",
       "...    ...                                                ...\n",
       "5537     1  Want explicit SEX in 30 secs? Ring 02073162414...\n",
       "5540     1  ASKED 3MOBILE IF 0870 CHATLINES INCLU IN FREE ...\n",
       "5547     1  Had your contract mobile 11 Mnths? Latest Moto...\n",
       "5566     1  REMINDER FROM O2: To get 2.50 pounds free call...\n",
       "5567     1  This is the 2nd time we have tried 2 contact u...\n",
       "\n",
       "[1306 rows x 2 columns]"
      ]
     },
     "execution_count": 22,
     "metadata": {},
     "output_type": "execute_result"
    }
   ],
   "source": [
    "balanced_data['Spam'].replace({'ham':0,'spam':1},inplace=True)\n",
    "balanced_data"
   ]
  },
  {
   "cell_type": "markdown",
   "id": "778fa44e-5076-466b-82dd-4da45e42010f",
   "metadata": {},
   "source": [
    "## 5. Modelling:\r\n",
    "We've done enough EDA (could do more ofc), but proceeding towards model-driven EDA."
   ]
  },
  {
   "cell_type": "markdown",
   "id": "a62f7442-df79-468a-b145-0afa6b335750",
   "metadata": {},
   "source": [
    "#### Splitting into training and testing datasets."
   ]
  },
  {
   "cell_type": "code",
   "execution_count": 23,
   "id": "1dec3c4e-3771-4900-8758-94e2a15345e1",
   "metadata": {},
   "outputs": [],
   "source": [
    "vectorizer = TfidfVectorizer()"
   ]
  },
  {
   "cell_type": "code",
   "execution_count": 24,
   "id": "2c9dd319-c279-4d28-b9fd-1c6177457314",
   "metadata": {},
   "outputs": [],
   "source": [
    "X=vectorizer.fit_transform(balanced_data['Text'])\n",
    "y=balanced_data['Spam']"
   ]
  },
  {
   "cell_type": "code",
   "execution_count": 25,
   "id": "36503327-16f6-443f-b6e3-3cf5538a4f96",
   "metadata": {},
   "outputs": [
    {
     "name": "stdout",
     "output_type": "stream",
     "text": [
      "  (0, 2881)\t0.17025755029879144\n",
      "  (0, 2462)\t0.16325757335436267\n",
      "  (0, 3183)\t0.27226547756513647\n",
      "  (0, 2593)\t0.1251480100884777\n",
      "  (0, 1956)\t0.3667880145936373\n",
      "  (0, 2756)\t0.27226547756513647\n",
      "  (0, 862)\t0.21085781608737764\n",
      "  (0, 1106)\t0.27226547756513647\n",
      "  (0, 3827)\t0.18836044563323492\n",
      "  (0, 3198)\t0.17495927220245502\n",
      "  (0, 2869)\t0.22668027394928117\n",
      "  (0, 1917)\t0.2102335602330296\n",
      "  (0, 3825)\t0.13374966167904434\n",
      "  (0, 3022)\t0.19231345769666008\n",
      "  (0, 4163)\t0.19659931527539937\n",
      "  (0, 4348)\t0.31500460215187004\n",
      "  (0, 3445)\t0.27226547756513647\n",
      "  (0, 2709)\t0.23892373564409974\n",
      "  (0, 2863)\t0.2041548409096312\n",
      "  (1, 1966)\t0.1727781602133388\n",
      "  (1, 4239)\t0.15454360946104548\n",
      "  (1, 4286)\t0.2570963427895477\n",
      "  (1, 2943)\t0.3087981910834823\n",
      "  (1, 2060)\t0.12743814992329103\n",
      "  (1, 1597)\t0.39976723950218657\n",
      "  :\t:\n",
      "  (1305, 2837)\t0.29345684822523127\n",
      "  (1305, 164)\t0.29345684822523127\n",
      "  (1305, 3082)\t0.2503693661660506\n",
      "  (1305, 615)\t0.2051613722115433\n",
      "  (1305, 306)\t0.19941159621758087\n",
      "  (1305, 1404)\t0.16567457455407908\n",
      "  (1305, 2764)\t0.2031496534965094\n",
      "  (1305, 1318)\t0.1428738497076159\n",
      "  (1305, 3118)\t0.15183694975599576\n",
      "  (1305, 3191)\t0.19285974899169253\n",
      "  (1305, 1655)\t0.22004492342930598\n",
      "  (1305, 2642)\t0.23446705854448338\n",
      "  (1305, 433)\t0.1976682018080829\n",
      "  (1305, 2976)\t0.17134503825337496\n",
      "  (1305, 4269)\t0.157530976037164\n",
      "  (1305, 3953)\t0.2051613722115433\n",
      "  (1305, 1194)\t0.0956541370380747\n",
      "  (1305, 1162)\t0.20952363231619112\n",
      "  (1305, 2261)\t0.22336633003312237\n",
      "  (1305, 4185)\t0.1507910233363164\n",
      "  (1305, 3874)\t0.1769574413701253\n",
      "  (1305, 3850)\t0.13523426787384632\n",
      "  (1305, 2885)\t0.1412222407749425\n",
      "  (1305, 2060)\t0.24221383997701723\n",
      "  (1305, 3827)\t0.20302119534271496\n"
     ]
    }
   ],
   "source": [
    "print(X)"
   ]
  },
  {
   "cell_type": "code",
   "execution_count": 26,
   "id": "62816fc7-2c96-4d20-a8ad-a74dcbeb5284",
   "metadata": {},
   "outputs": [],
   "source": [
    "X_train,X_test,y_train,y_test = train_test_split(X,y,test_size=0.25,\n",
    "                                                 random_state=42)"
   ]
  },
  {
   "cell_type": "markdown",
   "id": "951d2eb7-2d9c-4896-aa51-c91e05d9c8ed",
   "metadata": {},
   "source": [
    "#### Training the dataset on Logisitic Regression Model"
   ]
  },
  {
   "cell_type": "code",
   "execution_count": 27,
   "id": "6178ccfa-015c-4cc9-a782-765f8f817a97",
   "metadata": {},
   "outputs": [],
   "source": [
    "model = LogisticRegression()"
   ]
  },
  {
   "cell_type": "code",
   "execution_count": 28,
   "id": "be79b01b-b82d-4eec-80a8-724563e248eb",
   "metadata": {},
   "outputs": [
    {
     "data": {
      "text/html": [
       "<style>#sk-container-id-1 {color: black;background-color: white;}#sk-container-id-1 pre{padding: 0;}#sk-container-id-1 div.sk-toggleable {background-color: white;}#sk-container-id-1 label.sk-toggleable__label {cursor: pointer;display: block;width: 100%;margin-bottom: 0;padding: 0.3em;box-sizing: border-box;text-align: center;}#sk-container-id-1 label.sk-toggleable__label-arrow:before {content: \"▸\";float: left;margin-right: 0.25em;color: #696969;}#sk-container-id-1 label.sk-toggleable__label-arrow:hover:before {color: black;}#sk-container-id-1 div.sk-estimator:hover label.sk-toggleable__label-arrow:before {color: black;}#sk-container-id-1 div.sk-toggleable__content {max-height: 0;max-width: 0;overflow: hidden;text-align: left;background-color: #f0f8ff;}#sk-container-id-1 div.sk-toggleable__content pre {margin: 0.2em;color: black;border-radius: 0.25em;background-color: #f0f8ff;}#sk-container-id-1 input.sk-toggleable__control:checked~div.sk-toggleable__content {max-height: 200px;max-width: 100%;overflow: auto;}#sk-container-id-1 input.sk-toggleable__control:checked~label.sk-toggleable__label-arrow:before {content: \"▾\";}#sk-container-id-1 div.sk-estimator input.sk-toggleable__control:checked~label.sk-toggleable__label {background-color: #d4ebff;}#sk-container-id-1 div.sk-label input.sk-toggleable__control:checked~label.sk-toggleable__label {background-color: #d4ebff;}#sk-container-id-1 input.sk-hidden--visually {border: 0;clip: rect(1px 1px 1px 1px);clip: rect(1px, 1px, 1px, 1px);height: 1px;margin: -1px;overflow: hidden;padding: 0;position: absolute;width: 1px;}#sk-container-id-1 div.sk-estimator {font-family: monospace;background-color: #f0f8ff;border: 1px dotted black;border-radius: 0.25em;box-sizing: border-box;margin-bottom: 0.5em;}#sk-container-id-1 div.sk-estimator:hover {background-color: #d4ebff;}#sk-container-id-1 div.sk-parallel-item::after {content: \"\";width: 100%;border-bottom: 1px solid gray;flex-grow: 1;}#sk-container-id-1 div.sk-label:hover label.sk-toggleable__label {background-color: #d4ebff;}#sk-container-id-1 div.sk-serial::before {content: \"\";position: absolute;border-left: 1px solid gray;box-sizing: border-box;top: 0;bottom: 0;left: 50%;z-index: 0;}#sk-container-id-1 div.sk-serial {display: flex;flex-direction: column;align-items: center;background-color: white;padding-right: 0.2em;padding-left: 0.2em;position: relative;}#sk-container-id-1 div.sk-item {position: relative;z-index: 1;}#sk-container-id-1 div.sk-parallel {display: flex;align-items: stretch;justify-content: center;background-color: white;position: relative;}#sk-container-id-1 div.sk-item::before, #sk-container-id-1 div.sk-parallel-item::before {content: \"\";position: absolute;border-left: 1px solid gray;box-sizing: border-box;top: 0;bottom: 0;left: 50%;z-index: -1;}#sk-container-id-1 div.sk-parallel-item {display: flex;flex-direction: column;z-index: 1;position: relative;background-color: white;}#sk-container-id-1 div.sk-parallel-item:first-child::after {align-self: flex-end;width: 50%;}#sk-container-id-1 div.sk-parallel-item:last-child::after {align-self: flex-start;width: 50%;}#sk-container-id-1 div.sk-parallel-item:only-child::after {width: 0;}#sk-container-id-1 div.sk-dashed-wrapped {border: 1px dashed gray;margin: 0 0.4em 0.5em 0.4em;box-sizing: border-box;padding-bottom: 0.4em;background-color: white;}#sk-container-id-1 div.sk-label label {font-family: monospace;font-weight: bold;display: inline-block;line-height: 1.2em;}#sk-container-id-1 div.sk-label-container {text-align: center;}#sk-container-id-1 div.sk-container {/* jupyter's `normalize.less` sets `[hidden] { display: none; }` but bootstrap.min.css set `[hidden] { display: none !important; }` so we also need the `!important` here to be able to override the default hidden behavior on the sphinx rendered scikit-learn.org. See: https://github.com/scikit-learn/scikit-learn/issues/21755 */display: inline-block !important;position: relative;}#sk-container-id-1 div.sk-text-repr-fallback {display: none;}</style><div id=\"sk-container-id-1\" class=\"sk-top-container\"><div class=\"sk-text-repr-fallback\"><pre>LogisticRegression()</pre><b>In a Jupyter environment, please rerun this cell to show the HTML representation or trust the notebook. <br />On GitHub, the HTML representation is unable to render, please try loading this page with nbviewer.org.</b></div><div class=\"sk-container\" hidden><div class=\"sk-item\"><div class=\"sk-estimator sk-toggleable\"><input class=\"sk-toggleable__control sk-hidden--visually\" id=\"sk-estimator-id-1\" type=\"checkbox\" checked><label for=\"sk-estimator-id-1\" class=\"sk-toggleable__label sk-toggleable__label-arrow\">LogisticRegression</label><div class=\"sk-toggleable__content\"><pre>LogisticRegression()</pre></div></div></div></div></div>"
      ],
      "text/plain": [
       "LogisticRegression()"
      ]
     },
     "execution_count": 28,
     "metadata": {},
     "output_type": "execute_result"
    }
   ],
   "source": [
    "model.fit(X_train, y_train)"
   ]
  },
  {
   "cell_type": "code",
   "execution_count": 29,
   "id": "06e0d458-a3e2-41c9-82b3-e492d1b9cff2",
   "metadata": {},
   "outputs": [],
   "source": [
    "y_preds = model.predict(X_train)"
   ]
  },
  {
   "cell_type": "code",
   "execution_count": 30,
   "id": "810b172f-2af1-405c-b9ec-f39df0fc737e",
   "metadata": {},
   "outputs": [
    {
     "name": "stdout",
     "output_type": "stream",
     "text": [
      "[1 0 0 0 1 1 0 0 0 0 0 1 0 1 1 1 0 0 1 0 1 1 1 0 1 1 0 0 0 1 0 0 1 1 0 1 0\n",
      " 0 0 1 1 0 0 0 0 1 0 0 1 0 1 0 0 1 0 0 0 0 0 0 0 0 1 1 1 1 0 1 1 1 1 0 1 0\n",
      " 0 1 1 0 0 1 1 0 0 0 0 1 1 0 1 1 0 1 1 1 1 0 0 1 1 1 1 1 0 0 1 0 1 0 0 1 0\n",
      " 0 0 1 0 1 1 0 1 0 1 1 0 1 0 1 0 0 1 0 0 0 0 1 1 0 1 1 1 1 0 1 1 1 1 1 1 1\n",
      " 0 1 1 0 1 0 0 0 1 0 0 0 0 1 0 1 1 1 0 0 1 0 1 1 1 1 1 1 1 1 0 0 1 1 0 0 0\n",
      " 0 0 0 1 0 0 0 0 1 1 0 0 0 1 0 1 1 0 0 0 1 0 0 0 1 0 0 0 0 0 0 0 0 1 1 0 0\n",
      " 1 0 1 1 1 0 0 0 1 0 1 0 1 0 0 0 0 1 0 0 0 0 1 1 1 1 1 1 0 1 0 0 1 1 0 1 1\n",
      " 0 1 1 0 0 1 0 1 0 0 1 1 1 0 0 1 0 0 1 1 0 1 1 0 1 1 1 0 0 1 1 0 0 1 0 0 0\n",
      " 1 0 0 1 0 1 0 0 0 0 0 1 1 0 0 1 0 0 1 0 0 1 1 1 1 0 1 1 0 0 1 1 1 0 1 0 1\n",
      " 1 1 0 1 1 1 1 0 0 1 0 0 1 0 0 0 1 1 1 1 0 1 0 1 0 1 0 1 0 0 0 0 1 0 1 1 1\n",
      " 1 1 0 0 0 1 0 0 1 0 1 0 0 0 0 0 1 0 1 1 0 1 0 0 1 0 0 0 0 0 0 1 1 0 1 0 0\n",
      " 0 1 0 0 0 1 0 1 0 1 0 0 0 1 1 1 0 0 1 0 1 0 1 0 1 0 0 0 1 1 1 1 0 1 1 0 1\n",
      " 1 0 0 1 0 0 0 1 0 0 1 1 1 1 0 0 0 1 0 1 1 0 1 0 1 1 1 1 1 0 1 1 1 0 0 0 1\n",
      " 0 1 1 0 0 0 0 1 1 0 1 0 0 0 0 0 0 0 1 1 1 0 1 1 1 0 0 1 0 0 0 0 0 1 0 1 0\n",
      " 1 0 1 1 1 1 0 1 0 1 0 1 0 1 0 0 0 1 0 1 1 1 0 0 1 0 1 1 0 1 0 0 1 1 1 0 1\n",
      " 0 0 1 0 0 1 1 0 1 0 0 0 1 0 0 1 0 0 1 1 1 0 0 1 0 0 1 1 0 0 1 0 0 0 1 1 1\n",
      " 0 0 1 1 1 1 0 1 1 0 0 1 1 0 0 1 1 0 1 1 1 0 0 0 0 1 1 1 1 1 0 0 1 1 1 0 0\n",
      " 0 0 0 0 0 1 0 1 1 1 1 1 0 0 1 0 0 0 0 0 1 1 0 1 1 1 1 1 0 1 0 0 1 1 1 0 0\n",
      " 1 0 0 1 0 1 1 0 1 1 0 1 1 1 0 1 1 1 0 0 0 1 1 1 1 1 1 1 0 0 0 1 1 0 1 0 1\n",
      " 0 0 1 1 1 1 1 1 0 0 0 0 1 1 0 0 0 0 0 1 1 1 1 1 1 0 1 0 0 0 1 0 0 1 0 0 1\n",
      " 1 1 1 0 1 1 1 1 0 1 1 1 1 1 0 1 0 1 0 0 1 0 0 0 0 1 0 1 1 0 0 1 1 1 1 0 0\n",
      " 1 0 0 0 0 1 1 0 1 0 1 0 0 1 1 1 0 0 0 0 1 1 0 1 0 0 1 0 0 0 1 0 1 1 0 1 0\n",
      " 0 0 0 1 1 1 1 1 0 0 1 1 0 0 1 1 0 0 1 1 1 0 1 0 1 0 1 0 1 0 1 1 0 0 1 0 1\n",
      " 1 1 1 0 0 1 1 0 1 1 1 0 0 1 1 1 0 1 0 0 1 1 1 1 0 0 1 0 1 0 0 0 0 0 0 1 1\n",
      " 0 1 0 0 0 1 1 0 0 0 1 0 1 1 1 0 1 0 0 0 1 0 1 0 0 1 0 1 1 0 1 1 1 0 0 1 0\n",
      " 1 0 1 0 1 0 0 0 0 0 0 1 0 0 1 1 1 0 1 1 1 0 1 1 0 1 0 1 1 0 0 0 1 0 1 1 0\n",
      " 1 0 1 0 1 1 0 0 1 0 0 1 1 1 1 1 1]\n"
     ]
    }
   ],
   "source": [
    "print(y_preds)"
   ]
  },
  {
   "cell_type": "code",
   "execution_count": 31,
   "id": "e2d9c8c3-1017-4091-a3b9-67aae0100fd8",
   "metadata": {},
   "outputs": [
    {
     "name": "stdout",
     "output_type": "stream",
     "text": [
      "0.9836567926455567\n"
     ]
    }
   ],
   "source": [
    "train_accuracy = accuracy_score(y_train,y_preds)\n",
    "print(train_accuracy)"
   ]
  },
  {
   "cell_type": "code",
   "execution_count": 32,
   "id": "bc828af9-b104-4f43-866b-1582ee888407",
   "metadata": {},
   "outputs": [
    {
     "name": "stdout",
     "output_type": "stream",
     "text": [
      "[1 0 1 0 0 1 0 1 0 1 1 0 1 1 0 1 1 1 1 0 0 0 0 0 0 1 0 1 1 1 0 1 1 0 0 1 0\n",
      " 1 0 0 0 1 0 1 0 1 1 0 0 1 0 0 0 0 0 0 1 1 1 1 1 1 1 1 0 0 0 1 1 0 1 0 1 1\n",
      " 0 0 0 0 1 1 1 1 1 0 0 0 1 1 0 0 1 1 0 0 0 1 1 0 1 1 0 1 0 0 0 1 0 1 0 0 0\n",
      " 1 1 0 0 0 0 1 0 0 0 0 0 0 0 0 1 1 0 0 1 0 0 0 0 1 1 0 0 1 0 0 1 0 1 1 0 0\n",
      " 1 1 1 0 0 1 0 0 0 0 1 0 1 0 1 0 0 0 0 0 0 0 0 0 1 0 0 0 1 0 1 0 1 0 0 0 1\n",
      " 1 1 0 1 0 0 0 1 1 1 1 0 0 1 1 1 1 0 0 1 0 0 0 1 0 0 1 0 0 0 1 1 0 0 1 1 0\n",
      " 1 0 1 0 1 1 0 1 0 0 0 1 0 1 1 1 0 1 1 1 0 0 1 0 1 0 0 0 1 0 1 0 0 0 0 1 0\n",
      " 0 1 1 1 0 0 0 0 1 0 0 1 0 1 0 0 1 0 1 0 1 0 1 1 1 1 0 1 1 0 0 0 0 0 0 0 1\n",
      " 1 1 0 1 1 0 1 0 0 0 0 1 1 0 0 1 0 0 1 1 0 1 0 0 1 0 1 1 0 1 1]\n"
     ]
    }
   ],
   "source": [
    "test_predict = model.predict(X_test)\n",
    "print(test_predict)"
   ]
  },
  {
   "cell_type": "code",
   "execution_count": 33,
   "id": "01876c00-2e17-4514-b342-f73d32cd1d66",
   "metadata": {},
   "outputs": [
    {
     "name": "stdout",
     "output_type": "stream",
     "text": [
      "0.9388379204892966\n"
     ]
    }
   ],
   "source": [
    "test_accuracy=accuracy_score(y_test,test_predict)\n",
    "print(test_accuracy)"
   ]
  },
  {
   "cell_type": "code",
   "execution_count": 34,
   "id": "7be57005-6c7a-4d8c-ab83-4dc390c1be51",
   "metadata": {},
   "outputs": [
    {
     "name": "stdout",
     "output_type": "stream",
     "text": [
      "              precision    recall  f1-score   support\n",
      "\n",
      "           0       0.91      0.98      0.94       170\n",
      "           1       0.97      0.90      0.93       157\n",
      "\n",
      "    accuracy                           0.94       327\n",
      "   macro avg       0.94      0.94      0.94       327\n",
      "weighted avg       0.94      0.94      0.94       327\n",
      "\n"
     ]
    }
   ],
   "source": [
    "report = classification_report(y_test,test_predict)\n",
    "print(report)"
   ]
  }
 ],
 "metadata": {
  "kernelspec": {
   "display_name": "Python 3 (ipykernel)",
   "language": "python",
   "name": "python3"
  },
  "language_info": {
   "codemirror_mode": {
    "name": "ipython",
    "version": 3
   },
   "file_extension": ".py",
   "mimetype": "text/x-python",
   "name": "python",
   "nbconvert_exporter": "python",
   "pygments_lexer": "ipython3",
   "version": "3.11.8"
  }
 },
 "nbformat": 4,
 "nbformat_minor": 5
}
