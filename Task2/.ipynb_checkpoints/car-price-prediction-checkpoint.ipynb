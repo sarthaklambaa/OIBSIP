{
 "cells": [
  {
   "cell_type": "markdown",
   "id": "c8e55388-8951-42a6-9d7e-282947168f2a",
   "metadata": {},
   "source": [
    "# Car Price Prediction with Machine Learning"
   ]
  },
  {
   "cell_type": "markdown",
   "id": "8b30de8c-0d5e-4c98-81cb-2f16866bed86",
   "metadata": {},
   "source": [
    "The price of a car depends on a lot of factors like the goodwill of the brand of the car, features of the car, horsepower and the mileage it gives and many more. Car price prediction is one of the major research areas in machine learning. "
   ]
  },
  {
   "cell_type": "markdown",
   "id": "45c5c198-35ce-4596-aa87-434792138b3e",
   "metadata": {},
   "source": [
    "## 1. Problem Definition"
   ]
  },
  {
   "cell_type": "markdown",
   "id": "469df9fb-858a-4281-ac5c-5400af7c8cc2",
   "metadata": {},
   "source": [
    "> How well can we predict the future sales price of a car, given it's characterisitics and previous examples of how much similar cars have been sold for?"
   ]
  },
  {
   "cell_type": "markdown",
   "id": "00c330e9-742e-43ed-a3e0-4c5d22c38fb5",
   "metadata": {},
   "source": [
    "## 2. Data"
   ]
  },
  {
   "cell_type": "markdown",
   "id": "c65a51e4-c469-4efe-a193-982f1d982ec5",
   "metadata": {},
   "source": [
    "This data was downloaded from **Kaggle - Car Price Prediction (used car)** <br>\n",
    "https://www.kaggle.com/datasets/vijayaadithyanvg/car-price-predictionused-cars"
   ]
  },
  {
   "cell_type": "markdown",
   "id": "3c44bce8-676c-4cb9-9be7-35d5b232cf18",
   "metadata": {},
   "source": [
    "## 3. Evaluation"
   ]
  },
  {
   "cell_type": "markdown",
   "id": "aeed6372-f8cd-484e-bf3c-ebeaff9a2689",
   "metadata": {},
   "source": [
    "The evaluation metric we will use is Root Squared  Error (RSE) between the predicted prices and the actual prices."
   ]
  },
  {
   "cell_type": "markdown",
   "id": "a669d67d-0e15-41fd-9b48-1a5315e67189",
   "metadata": {},
   "source": [
    "## 4. Features"
   ]
  },
  {
   "cell_type": "markdown",
   "id": "1ebe9764-399a-409e-91ff-1896975ac930",
   "metadata": {},
   "source": [
    "#### Data Dictionary:\n",
    "\n",
    "**Car_Name:** Name of the car (object)<br>\r\n",
    "**Year:** Year of the car (int64)<br>\r\n",
    "**Selling_Price:** Selling price of the car (float64)<br>\r\n",
    "**Present_Price:** Present price of the car (float64)<br>\r\n",
    "**Driven_kms:** Kilometers driven by the car (int64)<br>\r\n",
    "**Fuel_Type:** Type of fuel used by the car (object)<br>\r\n",
    "**Selling_type:** Type of selling (object)<br>\r\n",
    "**Transmission:** Type of transmission (object)<br>\r\n",
    "**Owner:** Number of previous owt6ners (4)\r\n",
    "nt64)\r\n"
   ]
  },
  {
   "cell_type": "code",
   "execution_count": 3,
   "id": "b6b6e54d-2d38-4126-b671-2cd59cef4165",
   "metadata": {},
   "outputs": [],
   "source": [
    "# Importing necessary tools\n",
    "\n",
    "import pandas as pd\n",
    "import numpy as np\n",
    "import matplotlib as plt\n",
    "%matplotlib inline\n",
    "import seaborn as sns"
   ]
  },
  {
   "cell_type": "code",
   "execution_count": 4,
   "id": "ed0a379e-5bf9-4c7f-8070-6bd2dcde8219",
   "metadata": {},
   "outputs": [],
   "source": [
    "# Importing data\n",
    "data = pd.read_csv(\"data/car data.csv\")"
   ]
  },
  {
   "cell_type": "code",
   "execution_count": 5,
   "id": "aa051e01-3f66-4dc1-b5fd-beec95bade95",
   "metadata": {},
   "outputs": [
    {
     "data": {
      "text/html": [
       "<div>\n",
       "<style scoped>\n",
       "    .dataframe tbody tr th:only-of-type {\n",
       "        vertical-align: middle;\n",
       "    }\n",
       "\n",
       "    .dataframe tbody tr th {\n",
       "        vertical-align: top;\n",
       "    }\n",
       "\n",
       "    .dataframe thead th {\n",
       "        text-align: right;\n",
       "    }\n",
       "</style>\n",
       "<table border=\"1\" class=\"dataframe\">\n",
       "  <thead>\n",
       "    <tr style=\"text-align: right;\">\n",
       "      <th></th>\n",
       "      <th>Car_Name</th>\n",
       "      <th>Year</th>\n",
       "      <th>Selling_Price</th>\n",
       "      <th>Present_Price</th>\n",
       "      <th>Driven_kms</th>\n",
       "      <th>Fuel_Type</th>\n",
       "      <th>Selling_type</th>\n",
       "      <th>Transmission</th>\n",
       "      <th>Owner</th>\n",
       "    </tr>\n",
       "  </thead>\n",
       "  <tbody>\n",
       "    <tr>\n",
       "      <th>0</th>\n",
       "      <td>ritz</td>\n",
       "      <td>2014</td>\n",
       "      <td>3.35</td>\n",
       "      <td>5.59</td>\n",
       "      <td>27000</td>\n",
       "      <td>Petrol</td>\n",
       "      <td>Dealer</td>\n",
       "      <td>Manual</td>\n",
       "      <td>0</td>\n",
       "    </tr>\n",
       "    <tr>\n",
       "      <th>1</th>\n",
       "      <td>sx4</td>\n",
       "      <td>2013</td>\n",
       "      <td>4.75</td>\n",
       "      <td>9.54</td>\n",
       "      <td>43000</td>\n",
       "      <td>Diesel</td>\n",
       "      <td>Dealer</td>\n",
       "      <td>Manual</td>\n",
       "      <td>0</td>\n",
       "    </tr>\n",
       "    <tr>\n",
       "      <th>2</th>\n",
       "      <td>ciaz</td>\n",
       "      <td>2017</td>\n",
       "      <td>7.25</td>\n",
       "      <td>9.85</td>\n",
       "      <td>6900</td>\n",
       "      <td>Petrol</td>\n",
       "      <td>Dealer</td>\n",
       "      <td>Manual</td>\n",
       "      <td>0</td>\n",
       "    </tr>\n",
       "    <tr>\n",
       "      <th>3</th>\n",
       "      <td>wagon r</td>\n",
       "      <td>2011</td>\n",
       "      <td>2.85</td>\n",
       "      <td>4.15</td>\n",
       "      <td>5200</td>\n",
       "      <td>Petrol</td>\n",
       "      <td>Dealer</td>\n",
       "      <td>Manual</td>\n",
       "      <td>0</td>\n",
       "    </tr>\n",
       "    <tr>\n",
       "      <th>4</th>\n",
       "      <td>swift</td>\n",
       "      <td>2014</td>\n",
       "      <td>4.60</td>\n",
       "      <td>6.87</td>\n",
       "      <td>42450</td>\n",
       "      <td>Diesel</td>\n",
       "      <td>Dealer</td>\n",
       "      <td>Manual</td>\n",
       "      <td>0</td>\n",
       "    </tr>\n",
       "  </tbody>\n",
       "</table>\n",
       "</div>"
      ],
      "text/plain": [
       "  Car_Name  Year  Selling_Price  Present_Price  Driven_kms Fuel_Type  \\\n",
       "0     ritz  2014           3.35           5.59       27000    Petrol   \n",
       "1      sx4  2013           4.75           9.54       43000    Diesel   \n",
       "2     ciaz  2017           7.25           9.85        6900    Petrol   \n",
       "3  wagon r  2011           2.85           4.15        5200    Petrol   \n",
       "4    swift  2014           4.60           6.87       42450    Diesel   \n",
       "\n",
       "  Selling_type Transmission  Owner  \n",
       "0       Dealer       Manual      0  \n",
       "1       Dealer       Manual      0  \n",
       "2       Dealer       Manual      0  \n",
       "3       Dealer       Manual      0  \n",
       "4       Dealer       Manual      0  "
      ]
     },
     "execution_count": 5,
     "metadata": {},
     "output_type": "execute_result"
    }
   ],
   "source": [
    "data.head()"
   ]
  },
  {
   "cell_type": "code",
   "execution_count": 7,
   "id": "7dd81371-ccdf-49ae-8f8c-e0c182edf8d8",
   "metadata": {},
   "outputs": [
    {
     "name": "stdout",
     "output_type": "stream",
     "text": [
      "<class 'pandas.core.frame.DataFrame'>\n",
      "RangeIndex: 301 entries, 0 to 300\n",
      "Data columns (total 9 columns):\n",
      " #   Column         Non-Null Count  Dtype  \n",
      "---  ------         --------------  -----  \n",
      " 0   Car_Name       301 non-null    object \n",
      " 1   Year           301 non-null    int64  \n",
      " 2   Selling_Price  301 non-null    float64\n",
      " 3   Present_Price  301 non-null    float64\n",
      " 4   Driven_kms     301 non-null    int64  \n",
      " 5   Fuel_Type      301 non-null    object \n",
      " 6   Selling_type   301 non-null    object \n",
      " 7   Transmission   301 non-null    object \n",
      " 8   Owner          301 non-null    int64  \n",
      "dtypes: float64(2), int64(3), object(4)\n",
      "memory usage: 21.3+ KB\n"
     ]
    }
   ],
   "source": [
    "data.info()"
   ]
  },
  {
   "cell_type": "code",
   "execution_count": null,
   "id": "787f3aea-beb8-4a30-819c-37f8d45788f1",
   "metadata": {},
   "outputs": [],
   "source": []
  }
 ],
 "metadata": {
  "kernelspec": {
   "display_name": "Python 3 (ipykernel)",
   "language": "python",
   "name": "python3"
  },
  "language_info": {
   "codemirror_mode": {
    "name": "ipython",
    "version": 3
   },
   "file_extension": ".py",
   "mimetype": "text/x-python",
   "name": "python",
   "nbconvert_exporter": "python",
   "pygments_lexer": "ipython3",
   "version": "3.11.8"
  }
 },
 "nbformat": 4,
 "nbformat_minor": 5
}
